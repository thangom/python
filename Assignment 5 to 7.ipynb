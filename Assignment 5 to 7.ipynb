{
 "cells": [
  {
   "cell_type": "markdown",
   "metadata": {},
   "source": [
    "<h2>Assignment 5</h2>\n",
    "<h4>Dictionary</h4>"
   ]
  },
  {
   "cell_type": "code",
   "execution_count": 1,
   "metadata": {},
   "outputs": [
    {
     "name": "stdout",
     "output_type": "stream",
     "text": [
      "{'name': 'Tommy', 'color': 'Brown & White', 'breed': 'Golden retriever', 'legs': 'short', 'age': 4}\n"
     ]
    },
    {
     "ename": "NameError",
     "evalue": "name 'dog' is not defined",
     "output_type": "error",
     "traceback": [
      "\u001b[1;31m---------------------------------------------------------------------------\u001b[0m",
      "\u001b[1;31mNameError\u001b[0m                                 Traceback (most recent call last)",
      "\u001b[1;32m~\\AppData\\Local\\Temp\\ipykernel_4192\\2877557083.py\u001b[0m in \u001b[0;36m<module>\u001b[1;34m\u001b[0m\n\u001b[0;32m      7\u001b[0m \u001b[0mprint\u001b[0m\u001b[1;33m(\u001b[0m\u001b[0mdog\u001b[0m\u001b[1;33m)\u001b[0m\u001b[1;33m\u001b[0m\u001b[1;33m\u001b[0m\u001b[0m\n\u001b[0;32m      8\u001b[0m \u001b[1;32mdel\u001b[0m \u001b[0mdog\u001b[0m\u001b[1;33m\u001b[0m\u001b[1;33m\u001b[0m\u001b[0m\n\u001b[1;32m----> 9\u001b[1;33m \u001b[0mprint\u001b[0m\u001b[1;33m(\u001b[0m\u001b[0mdog\u001b[0m\u001b[1;33m)\u001b[0m\u001b[1;33m\u001b[0m\u001b[1;33m\u001b[0m\u001b[0m\n\u001b[0m",
      "\u001b[1;31mNameError\u001b[0m: name 'dog' is not defined"
     ]
    }
   ],
   "source": [
    "dog={}\n",
    "dog['name']='Tommy'\n",
    "dog['color']='Brown & White'\n",
    "dog['breed']='Golden retriever'\n",
    "dog['legs']='short'\n",
    "dog['age']=4\n",
    "print(dog)\n",
    "del dog\n",
    "#print(dog)"
   ]
  },
  {
   "cell_type": "code",
   "execution_count": 13,
   "metadata": {},
   "outputs": [
    {
     "name": "stdout",
     "output_type": "stream",
     "text": [
      "8\n",
      "['Quick learner', 'Time management', 'Adaptability', 'Team work']\n",
      "<class 'list'>\n",
      "['Quick learner', 'Time management', 'Adaptability', 'Team work', 'work ethic']\n",
      "dict_keys(['first-name', 'last-name', 'gender', 'age', 'skills', 'martial-status', 'country', 'city']) dict_values(['Thangadurai', 'Raju', 'Male', 22, ['Quick learner', 'Time management', 'Adaptability', 'Team work', 'work ethic'], 'Single', 'India', 'Erode'])\n",
      "dict_items([('first-name', 'Thangadurai'), ('last-name', 'Raju'), ('gender', 'Male'), ('age', 22), ('skills', ['Quick learner', 'Time management', 'Adaptability', 'Team work', 'work ethic']), ('martial-status', 'Single'), ('country', 'India'), ('city', 'Erode')])\n",
      "['Quick learner', 'Time management', 'Adaptability', 'Team work', 'work ethic']\n",
      "{'first-name': 'Thangadurai', 'last-name': 'Raju', 'gender': 'Male', 'age': 22, 'martial-status': 'Single', 'country': 'India', 'city': 'Erode'}\n"
     ]
    }
   ],
   "source": [
    "student={\n",
    "    'first-name':'Thangadurai',\n",
    "    'last-name':'Raju',\n",
    "    'gender':'Male',\n",
    "    'age':22,\n",
    "    'skills':['Quick learner','Time management','Adaptability','Team work'],\n",
    "    'martial-status':'Single',\n",
    "    'country':'India',\n",
    "    'city':'Erode'\n",
    "}\n",
    "print(len(student))\n",
    "print(student['skills'])\n",
    "print(type(student['skills']))\n",
    "student['skills'].append('work ethic')\n",
    "print(student['skills'])\n",
    "print(student.keys(),student.values())\n",
    "print(student.items())\n",
    "print(student.pop('skills'))\n",
    "print(student)"
   ]
  },
  {
   "cell_type": "markdown",
   "metadata": {},
   "source": [
    "<h2>Assignment 6</h2>\n",
    "<h4>Tuple</h4>\n",
    "<h4>Excercise level 1</h4>"
   ]
  },
  {
   "cell_type": "code",
   "execution_count": 32,
   "metadata": {},
   "outputs": [
    {
     "name": "stdout",
     "output_type": "stream",
     "text": [
      "('Bharathi', 'Sowndharya', 'Laila', 'Sowmiya', 'Ranjith', 'Rubesh', 'Jagadeesh')\n",
      "7\n",
      "('Bharathi', 'Sowndharya', 'Laila', 'Sowmiya', 'Ranjith', 'Rubesh', 'Jagadeesh', 'Raju', 'Kavitha')\n"
     ]
    }
   ],
   "source": [
    "siblings=()\n",
    "a=list(siblings)\n",
    "sisters=('Bharathi','Sowndharya','Laila','Sowmiya')\n",
    "brothers=('Ranjith','Rubesh','Jagadeesh')\n",
    "sista_lst=list(sisters)\n",
    "brotha_lst=list(brothers)\n",
    "sista_lst.extend(brotha_lst)\n",
    "a.extend(sista_lst)\n",
    "siblings=tuple(a)\n",
    "print(siblings)\n",
    "print(len(siblings))\n",
    "b=list(siblings)\n",
    "parents=['Raju','Kavitha']\n",
    "b.extend(parents)\n",
    "\n",
    "family_members=tuple(b)\n",
    "print(family_members)\n"
   ]
  },
  {
   "cell_type": "markdown",
   "metadata": {},
   "source": [
    "<h4>Excercise level 2</h4>"
   ]
  },
  {
   "cell_type": "code",
   "execution_count": 35,
   "metadata": {},
   "outputs": [
    {
     "name": "stdout",
     "output_type": "stream",
     "text": [
      "('Raju', 'Kavitha')\n",
      "('Bharathi', 'Sowndharya', 'Laila', 'Sowmiya', 'Ranjith', 'Rubesh', 'Jagadeesh')\n",
      "['Bharathi', 'Sowndharya', 'Laila', 'Sowmiya', 'Ranjith', 'Rubesh', 'Jagadeesh']\n",
      "Raju\n",
      "Kavitha\n"
     ]
    }
   ],
   "source": [
    "family_members=list(family_members)\n",
    "parents=list(parents)\n",
    "siblings=list(siblings)\n",
    "parents1=[]\n",
    "siblings1=[]\n",
    "for i in family_members:\n",
    "    if i in parents:\n",
    "        parents1.append(i)\n",
    "    else:\n",
    "        siblings1.append(i)\n",
    "print(tuple(parents1))\n",
    "print(tuple(siblings1))\n",
    "\n",
    "#another method\n",
    "(*sibling,Raju,Kavitha)=family_members\n",
    "print(sibling)\n",
    "print(Raju)\n",
    "print(Kavitha)"
   ]
  },
  {
   "cell_type": "code",
   "execution_count": 59,
   "metadata": {},
   "outputs": [
    {
     "name": "stdout",
     "output_type": "stream",
     "text": [
      "('apple', 'orange', 'pineapple', 'watermelon', 'tomato', 'potato', 'brinjal', 'onion', 'meat', 'eggs', 'milk', 'leather')\n",
      "brinjal\n",
      "['apple', 'orange', 'pineapple']\n",
      "['eggs', 'milk', 'leather']\n"
     ]
    }
   ],
   "source": [
    "fruits=('apple','orange','pineapple','watermelon')\n",
    "vegetables=('tomato','potato','brinjal','onion')\n",
    "animal_products=('meat','eggs','milk','leather')\n",
    "fr_lst=list(fruits)\n",
    "vg_lst=list(vegetables)\n",
    "ap_lst=list(animal_products)\n",
    "food_stuff_lst=fr_lst+vg_lst+ap_lst\n",
    "food_stuff_tp=tuple(food_stuff_lst)\n",
    "print(food_stuff_tp)\n",
    "m=len(food_stuff_lst)//2\n",
    "print(food_stuff_lst[m])\n",
    "print(food_stuff_lst[:3])\n",
    "print(food_stuff_lst[-3:])\n",
    "del food_stuff_tp\n",
    "#print(food_stuff_tp)"
   ]
  },
  {
   "cell_type": "code",
   "execution_count": 61,
   "metadata": {},
   "outputs": [
    {
     "name": "stdout",
     "output_type": "stream",
     "text": [
      "No, Estonia is a Nordic Country\n",
      "Yes, Iceland is a Nordic Country\n"
     ]
    }
   ],
   "source": [
    "nordic_countries = ('Denmark', 'Finland','Iceland', 'Norway', 'Sweden')\n",
    "if 'Estonia' in nordic_countries:\n",
    "    print(\"Yes, Estonia is a Nordic Country\")\n",
    "else:\n",
    "    print(\"No, Estonia is a Nordic Country\")\n",
    "if 'Iceland' in nordic_countries:\n",
    "    print(\"Yes, Iceland is a Nordic Country\")\n",
    "else:\n",
    "    print(\"No, Iceland is a Nordic Country\")\n"
   ]
  },
  {
   "cell_type": "markdown",
   "metadata": {},
   "source": [
    "<h2>Assignment 7</h2>\n",
    "<h4>Set</h4>\n",
    "<h4>Excercise level 1</h4>"
   ]
  },
  {
   "cell_type": "code",
   "execution_count": 13,
   "metadata": {},
   "outputs": [
    {
     "name": "stdout",
     "output_type": "stream",
     "text": [
      "7\n",
      "{'Facebook', 'Oracle', 'Amazon', 'Twitter', 'Microsoft', 'IBM', 'Google', 'Apple'}\n",
      "{'Oracle', 'Twitter', 'Microsoft', 'IBM', 'Amazon', 'Google', 'Apple', 'Cognizant', 'Facebook', 'Wipro', 'HCL', 'TCS'}\n",
      "{'Oracle', 'Twitter', 'Microsoft', 'IBM', 'Amazon', 'Google', 'Apple', 'Cognizant', 'Facebook', 'Wipro', 'TCS'}\n",
      "{'Twitter', 'Microsoft', 'IBM', 'Amazon', 'Google', 'Apple', 'Cognizant', 'Facebook', 'Wipro', 'TCS'}\n"
     ]
    }
   ],
   "source": [
    "it_companies = {'Facebook', 'Google', 'Microsoft', 'Apple', 'IBM', 'Oracle', 'Amazon'}\n",
    "print(len(it_companies))\n",
    "it_companies.add('Twitter')\n",
    "print(it_companies)\n",
    "companies={'TCS','Cognizant','HCL','Wipro'}\n",
    "it_companies.update(companies)\n",
    "print(it_companies)\n",
    "it_companies.remove('HCL')\n",
    "print(it_companies)\n",
    "it_companies.discard('Oracle')\n",
    "print(it_companies)"
   ]
  },
  {
   "cell_type": "markdown",
   "metadata": {},
   "source": [
    "<h3>remove()</h3>\n",
    "<h5>The remove() method is used to remove elements from the set. It throws Keyerror if the element doesn't the set.</h5>\n",
    "<h3>discard()</h3>\n",
    "<h5>The discard() method is used to remove elements from the set. If the elements in the set, otherwise it do nothing.</h5>"
   ]
  },
  {
   "cell_type": "markdown",
   "metadata": {},
   "source": [
    "<h4>Excercise level 2</h4>"
   ]
  },
  {
   "cell_type": "code",
   "execution_count": 26,
   "metadata": {},
   "outputs": [
    {
     "name": "stdout",
     "output_type": "stream",
     "text": [
      "{19, 20, 22, 24, 25, 26, 27, 28}\n",
      "{19, 20, 22, 24, 25, 26}\n",
      "True\n",
      "False\n",
      "{19, 20, 22, 24, 25, 26, 27, 28}\n",
      "{27, 28}\n"
     ]
    }
   ],
   "source": [
    "A = {19, 22, 24, 20, 25, 26}\n",
    "B = {19, 22, 20, 25, 26, 24, 28, 27}\n",
    "print(A.union(B))#adds Sets A and B\n",
    "print(A.intersection(B))#elements are present in both set can be print. if not present elements neglected.\n",
    "print(A.issubset(B))\n",
    "print(A.isdisjoint(B))\n",
    "print(A.union(B) and B.union(A))\n",
    "print(A.symmetric_difference(B))\n",
    "del A,B\n",
    "#print(A,B)"
   ]
  },
  {
   "cell_type": "markdown",
   "metadata": {},
   "source": [
    "<h4>Excercise level 3</h4>"
   ]
  },
  {
   "cell_type": "code",
   "execution_count": 27,
   "metadata": {},
   "outputs": [
    {
     "name": "stdout",
     "output_type": "stream",
     "text": [
      "8\n",
      "5\n",
      "The age List is Higher length compare to age Set\n"
     ]
    }
   ],
   "source": [
    "age = [22, 19, 24, 25, 26, 24, 25, 24]\n",
    "\n",
    "age_set=set(age)\n",
    "print(len(age))\n",
    "print(len(age_set))\n",
    "if len(age)== len(age_set):\n",
    "    print(\"The age List and Set both lengths are equal\")\n",
    "elif len(age) > len(age_set):\n",
    "    print(\"The age List is Higher length compare to age Set\")\n",
    "elif len(age) < len(age_set):\n",
    "    print(\"The age Set is Higher length compare to age List\")"
   ]
  },
  {
   "cell_type": "code",
   "execution_count": 31,
   "metadata": {},
   "outputs": [
    {
     "name": "stdout",
     "output_type": "stream",
     "text": [
      "['I am a teacher ', ' I love to inspire ', ' teach people']\n",
      "{'I am a teacher ', ' I love to inspire ', ' teach people'}\n"
     ]
    }
   ],
   "source": [
    "str1=\"I am a teacher and I love to inspire and teach people\"\n",
    "str1_lst=str1.split('and')\n",
    "print(str1_lst)\n",
    "print(set(str1_lst))"
   ]
  }
 ],
 "metadata": {
  "kernelspec": {
   "display_name": "base",
   "language": "python",
   "name": "python3"
  },
  "language_info": {
   "codemirror_mode": {
    "name": "ipython",
    "version": 3
   },
   "file_extension": ".py",
   "mimetype": "text/x-python",
   "name": "python",
   "nbconvert_exporter": "python",
   "pygments_lexer": "ipython3",
   "version": "3.9.13 (main, Aug 25 2022, 23:51:50) [MSC v.1916 64 bit (AMD64)]"
  },
  "orig_nbformat": 4,
  "vscode": {
   "interpreter": {
    "hash": "0e63832b1e445d82ea1992fadf60a3a264d6ce2166f0794d2825a6ed51b5cd2b"
   }
  }
 },
 "nbformat": 4,
 "nbformat_minor": 2
}
