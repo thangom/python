{
 "cells": [
  {
   "cell_type": "markdown",
   "metadata": {},
   "source": [
    "<h2>Assignment 1</h2>\n",
    "<h4>Excercise 1 & Task 1</h4>\n"
   ]
  },
  {
   "cell_type": "code",
   "execution_count": 2,
   "metadata": {},
   "outputs": [
    {
     "name": "stdout",
     "output_type": "stream",
     "text": [
      "9\n"
     ]
    }
   ],
   "source": [
    "#Addition \n",
    "num_one=5\n",
    "num_two=4\n",
    "total=num_one+num_two\n",
    "print(total)"
   ]
  },
  {
   "cell_type": "code",
   "execution_count": 3,
   "metadata": {},
   "outputs": [
    {
     "name": "stdout",
     "output_type": "stream",
     "text": [
      "1\n"
     ]
    }
   ],
   "source": [
    "#Subtraction\n",
    "diff=num_one-num_two\n",
    "print(diff)"
   ]
  },
  {
   "cell_type": "code",
   "execution_count": 5,
   "metadata": {},
   "outputs": [
    {
     "name": "stdout",
     "output_type": "stream",
     "text": [
      "20\n"
     ]
    }
   ],
   "source": [
    "#Multification\n",
    "product=num_two*num_one\n",
    "print(product)"
   ]
  },
  {
   "cell_type": "code",
   "execution_count": 6,
   "metadata": {},
   "outputs": [
    {
     "name": "stdout",
     "output_type": "stream",
     "text": [
      "1.25\n"
     ]
    }
   ],
   "source": [
    "#Division\n",
    "division=num_one/num_two\n",
    "print(division)"
   ]
  },
  {
   "cell_type": "code",
   "execution_count": 7,
   "metadata": {},
   "outputs": [
    {
     "name": "stdout",
     "output_type": "stream",
     "text": [
      "4\n"
     ]
    }
   ],
   "source": [
    "#Modulo Division\n",
    "remainder=num_two%num_one\n",
    "print(remainder)"
   ]
  },
  {
   "cell_type": "code",
   "execution_count": 8,
   "metadata": {},
   "outputs": [
    {
     "name": "stdout",
     "output_type": "stream",
     "text": [
      "625\n"
     ]
    }
   ],
   "source": [
    "#Power of number\n",
    "exp=num_one**num_two\n",
    "print(exp)"
   ]
  },
  {
   "cell_type": "code",
   "execution_count": 9,
   "metadata": {},
   "outputs": [
    {
     "name": "stdout",
     "output_type": "stream",
     "text": [
      "1\n"
     ]
    }
   ],
   "source": [
    "#Floor Division\n",
    "floor_division=num_one//num_two\n",
    "print(floor_division)"
   ]
  },
  {
   "cell_type": "markdown",
   "metadata": {},
   "source": [
    "<h4>Task 2</h4>"
   ]
  },
  {
   "cell_type": "code",
   "execution_count": 10,
   "metadata": {},
   "outputs": [
    {
     "name": "stdout",
     "output_type": "stream",
     "text": [
      "<class 'int'>\n",
      "<class 'int'>\n",
      "<class 'int'>\n",
      "<class 'float'>\n",
      "<class 'int'>\n",
      "<class 'int'>\n",
      "<class 'int'>\n"
     ]
    }
   ],
   "source": [
    "#Check the all variable types\n",
    "print(type(total))\n",
    "print(type(diff))\n",
    "print(type(product))\n",
    "print(type(division))\n",
    "print(type(remainder))\n",
    "print(type(exp))\n",
    "print(type(floor_division))"
   ]
  },
  {
   "cell_type": "markdown",
   "metadata": {},
   "source": [
    "<h4>Excercise 2 & Task 1</h4>\n"
   ]
  },
  {
   "cell_type": "code",
   "execution_count": 13,
   "metadata": {},
   "outputs": [
    {
     "name": "stdout",
     "output_type": "stream",
     "text": [
      "9.433981132056603\n"
     ]
    }
   ],
   "source": [
    "#Finding Euclidean Distance\n",
    "#Formula of Euclidean distance (x1, y1) and (x2, y2) is d = √[(x2 – x1)2 + (y2 – y1)2].\n",
    "# find (2,3)and (10,8)\n",
    "x1=2\n",
    "y1=3\n",
    "x2=10\n",
    "y2=8\n",
    "d=((x2-x1)**2+(y2-y1)**2)**0.5\n",
    "print(d)\n",
    "\n"
   ]
  },
  {
   "cell_type": "markdown",
   "metadata": {},
   "source": [
    "<h4>Task 2</h4>"
   ]
  },
  {
   "cell_type": "code",
   "execution_count": 19,
   "metadata": {},
   "outputs": [
    {
     "name": "stdout",
     "output_type": "stream",
     "text": [
      "2826.0\n",
      "188.4\n"
     ]
    }
   ],
   "source": [
    "#circle program\n",
    "#Area of circle A=πr2 (pi=3.14)\n",
    "#cicumference of circle C=2πr\n",
    "radius=30\n",
    "area_of_circle=3.14*(radius**2)\n",
    "circum_of_circle=2*3.14*radius\n",
    "print(area_of_circle)\n",
    "print(circum_of_circle)"
   ]
  },
  {
   "cell_type": "markdown",
   "metadata": {},
   "source": [
    "<h2>Assignment 2 & 3</h2>\n",
    "\n",
    "<h4>Task 1</h4>"
   ]
  },
  {
   "cell_type": "code",
   "execution_count": 2,
   "metadata": {},
   "outputs": [
    {
     "name": "stdout",
     "output_type": "stream",
     "text": [
      "CodingForAll\n"
     ]
    }
   ],
   "source": [
    "#Concatenate the string\n",
    "company='Coding'+'For'+'All'\n",
    "print(company)"
   ]
  },
  {
   "cell_type": "markdown",
   "metadata": {},
   "source": [
    "<h4>Task 2</h4>"
   ]
  },
  {
   "cell_type": "code",
   "execution_count": 2,
   "metadata": {},
   "outputs": [
    {
     "name": "stdout",
     "output_type": "stream",
     "text": [
      "12\n"
     ]
    }
   ],
   "source": [
    "#length of company using len() function\n",
    "print(len(company))\n"
   ]
  },
  {
   "cell_type": "markdown",
   "metadata": {},
   "source": [
    "<h4>Task 3</h4>"
   ]
  },
  {
   "cell_type": "code",
   "execution_count": 4,
   "metadata": {},
   "outputs": [
    {
     "name": "stdout",
     "output_type": "stream",
     "text": [
      "CODINGFORALL\n"
     ]
    }
   ],
   "source": [
    "#using upper() function\n",
    "print(company.upper())"
   ]
  },
  {
   "cell_type": "markdown",
   "metadata": {},
   "source": [
    "<h4>Task 4</h4>"
   ]
  },
  {
   "cell_type": "code",
   "execution_count": 5,
   "metadata": {},
   "outputs": [
    {
     "name": "stdout",
     "output_type": "stream",
     "text": [
      "codingforall\n"
     ]
    }
   ],
   "source": [
    "#using lower() function\n",
    "print(company.lower())"
   ]
  },
  {
   "cell_type": "markdown",
   "metadata": {},
   "source": [
    "<h4>Task 5</h4>"
   ]
  },
  {
   "cell_type": "code",
   "execution_count": 4,
   "metadata": {},
   "outputs": [
    {
     "name": "stdout",
     "output_type": "stream",
     "text": [
      "Coding\n",
      "Coding\n",
      "Coding\n",
      "Coding\n",
      "0\n"
     ]
    }
   ],
   "source": [
    "#using to slicing method \n",
    "print(company[0:6])\n",
    "print(company[:6])\n",
    "print(company[:-6])\n",
    "print(company[0:-6])\n"
   ]
  },
  {
   "cell_type": "markdown",
   "metadata": {},
   "source": [
    "<h4>Task 6</h4>"
   ]
  },
  {
   "cell_type": "code",
   "execution_count": 15,
   "metadata": {},
   "outputs": [
    {
     "name": "stdout",
     "output_type": "stream",
     "text": [
      "Python For All\n"
     ]
    }
   ],
   "source": [
    "#changing the word using replace method\n",
    "str1=\"Python For Everyone\"\n",
    "w=str1.replace(\"Everyone\",\"All\")\n",
    "print(w)"
   ]
  },
  {
   "cell_type": "markdown",
   "metadata": {},
   "source": [
    "<h4>Task 7</h4>"
   ]
  },
  {
   "cell_type": "code",
   "execution_count": 17,
   "metadata": {},
   "outputs": [
    {
     "name": "stdout",
     "output_type": "stream",
     "text": [
      "['Facebook', ' Google', ' Microsoft', ' Apple', ' IBM', ' Oracle', ' Amazon']\n"
     ]
    }
   ],
   "source": [
    "#Split the strings\n",
    "str2=\"Facebook, Google, Microsoft, Apple, IBM, Oracle, Amazon\" \n",
    "q=str2.split(\",\")\n",
    "print(q)"
   ]
  },
  {
   "cell_type": "markdown",
   "metadata": {},
   "source": [
    "<h4>Task 8 ,9& 10</h4>"
   ]
  },
  {
   "cell_type": "code",
   "execution_count": 24,
   "metadata": {},
   "outputs": [
    {
     "name": "stdout",
     "output_type": "stream",
     "text": [
      "C l l\n"
     ]
    }
   ],
   "source": [
    "#indexing\n",
    "e=company[0]\n",
    "f=company[-1]\n",
    "g=company[10]\n",
    "print(e,f,g)\n"
   ]
  },
  {
   "cell_type": "markdown",
   "metadata": {},
   "source": [
    "<h4>Task 11</h4>"
   ]
  },
  {
   "cell_type": "code",
   "execution_count": 25,
   "metadata": {},
   "outputs": [
    {
     "name": "stdout",
     "output_type": "stream",
     "text": [
      "19\n"
     ]
    }
   ],
   "source": [
    "#rfind(): Returns the index of the last occurrence of a substring, if not found returns -1\n",
    "str3=\"Coding For All People\"\n",
    "h=str3.rfind(\"l\")\n",
    "print(h)"
   ]
  },
  {
   "cell_type": "markdown",
   "metadata": {},
   "source": [
    "<h4>Task 12</h4>"
   ]
  },
  {
   "cell_type": "code",
   "execution_count": 26,
   "metadata": {},
   "outputs": [
    {
     "name": "stdout",
     "output_type": "stream",
     "text": [
      "['You cannot end a sentence with ', ' ', ' ', ' is a conjunction']\n"
     ]
    }
   ],
   "source": [
    "#slice out the sentence\n",
    "str4='You cannot end a sentence with because because because is a conjunction'\n",
    "i=str4.split('because')\n",
    "print(i)"
   ]
  },
  {
   "cell_type": "markdown",
   "metadata": {},
   "source": [
    "<h4>Task 13</h4>"
   ]
  },
  {
   "cell_type": "code",
   "execution_count": 28,
   "metadata": {},
   "outputs": [
    {
     "name": "stdout",
     "output_type": "stream",
     "text": [
      "I am enjoying this challenge.\n",
      "I just wonder what is next.\n"
     ]
    }
   ],
   "source": [
    "#escape sequence newline \\n\n",
    "str5=\"I am enjoying this challenge.\\nI just wonder what is next.\"\n",
    "print(str5)\n"
   ]
  },
  {
   "cell_type": "markdown",
   "metadata": {},
   "source": [
    "<h4>Task 14</h4>"
   ]
  },
  {
   "cell_type": "code",
   "execution_count": 41,
   "metadata": {},
   "outputs": [
    {
     "name": "stdout",
     "output_type": "stream",
     "text": [
      "Name\tAge\tCountry\tCity\n",
      "Asabeneh\t250\tFinland\tHelsinki\n"
     ]
    }
   ],
   "source": [
    "#escape sequence tab space \\t\n",
    "str6=\"Name\\tAge\\tCountry\\tCity\"\n",
    "str7=\"Asabeneh\\t250\\tFinland\\tHelsinki\"\n",
    "print(str6)\n",
    "print(str7)"
   ]
  },
  {
   "cell_type": "markdown",
   "metadata": {},
   "source": [
    "<h4>Task 15</h4>"
   ]
  },
  {
   "cell_type": "code",
   "execution_count": 26,
   "metadata": {},
   "outputs": [
    {
     "name": "stdout",
     "output_type": "stream",
     "text": [
      "radius = 10 \n",
      "area = 3.14 * radius ** 2\n",
      "The area of a circle with radius 10 is 314.0 meters square.\n"
     ]
    }
   ],
   "source": [
    "#string formatting method using\n",
    "r=10\n",
    "a=3.14*r**2\n",
    "print(\"radius = {} \".format(r))\n",
    "print(\"area = 3.14 * radius ** 2\")\n",
    "print(\"The area of a circle with radius {} is {} meters square.\".format(r,a))"
   ]
  },
  {
   "cell_type": "markdown",
   "metadata": {},
   "source": [
    "<h4>Task 16</h4>"
   ]
  },
  {
   "cell_type": "code",
   "execution_count": 22,
   "metadata": {},
   "outputs": [
    {
     "name": "stdout",
     "output_type": "stream",
     "text": [
      "8+6=14\n",
      "8-6=2\n",
      "8*6=48\n",
      "8/6=1.3333333333333333\n",
      "8%6=2\n",
      "8//6=1\n",
      "8**6=262144\n"
     ]
    }
   ],
   "source": [
    "#string formatting with numbers\n",
    "num_one=8\n",
    "num_two=6\n",
    "total=num_one+num_two\n",
    "diff=num_one-num_two\n",
    "product=num_one*num_two\n",
    "division=num_one/num_two\n",
    "remainder=num_one%num_two\n",
    "floor_division=num_one//num_two\n",
    "exp=num_one**num_two\n",
    "print(\"{}+{}={}\".format(num_one,num_two,total))\n",
    "print(\"{}-{}={}\".format(num_one,num_two,diff))\n",
    "print(\"{}*{}={}\".format(num_one,num_two,product))\n",
    "print(\"{}/{}={}\".format(num_one,num_two,division))\n",
    "print(\"{}%{}={}\".format(num_one,num_two,remainder))\n",
    "print(\"{}//{}={}\".format(num_one,num_two,floor_division))\n",
    "print(\"{}**{}={}\".format(num_one,num_two,exp))\n"
   ]
  },
  {
   "cell_type": "markdown",
   "metadata": {},
   "source": [
    "<h2>Assignment 4</h2>\n",
    "<h4>Excercise 1</h4>"
   ]
  },
  {
   "cell_type": "code",
   "execution_count": 32,
   "metadata": {},
   "outputs": [
    {
     "name": "stdout",
     "output_type": "stream",
     "text": [
      "7\n",
      "1 4 7\n",
      "['Thangadurai', 22, '173', 'Unmarried', 'Namakkal']\n",
      "['Facebook', 'Google', 'Microsoft', 'IBM', 'Amazon']\n",
      "['Facebook', 'Google', 'Microsoft', 'IBM', 'Amazon', 'Oracle']\n",
      "['Facebook', 'Google', 'Microsoft', 'Apple', 'IBM', 'Amazon', 'Oracle']\n",
      "APPLE\n",
      "True\n",
      "['Amazon', 'Apple', 'Facebook', 'Google', 'IBM', 'Microsoft', 'Oracle']\n",
      "['Oracle', 'Microsoft', 'IBM', 'Google', 'Facebook', 'Apple', 'Amazon']\n",
      "['Oracle', 'Microsoft', 'IBM']\n",
      "['Facebook', 'Apple', 'Amazon']\n",
      "Google\n",
      "['Microsoft', 'IBM', 'Google', 'Facebook', 'Apple', 'Amazon']\n",
      "['Microsoft', 'IBM', 'Google', 'Apple', 'Amazon']\n",
      "['Microsoft', 'IBM', 'Google', 'Apple']\n",
      "[]\n",
      "['HTML', 'CSS', 'JS', 'React', 'Redux', 'Node', 'Express', 'MongoDB']\n"
     ]
    }
   ],
   "source": [
    "list1=[]\n",
    "list1=[1,2,3,4,5,6,7]\n",
    "print(len(list1))\n",
    "print(list1[0],list1[3],list1[-1])\n",
    "list2=['Thangadurai',22,'173','Unmarried','Namakkal']\n",
    "print(list2)\n",
    "it_companies=['Facebook', 'Google', 'Microsoft', 'IBM', 'Amazon']\n",
    "print(it_companies)\n",
    "it_companies.append('Oracle')\n",
    "print(it_companies)\n",
    "it_companies.insert(3,'Apple')\n",
    "print(it_companies)\n",
    "print(it_companies[3].upper())\n",
    "print('Google' in it_companies)\n",
    "it_companies.sort()\n",
    "print(it_companies)\n",
    "it_companies.reverse()\n",
    "print(it_companies)\n",
    "print(it_companies[:3])\n",
    "print(it_companies[-3:])\n",
    "print(it_companies[3])\n",
    "it_companies.pop(0)\n",
    "print(it_companies)\n",
    "it_companies.pop(3)\n",
    "print(it_companies)\n",
    "it_companies.pop()\n",
    "print(it_companies)\n",
    "it_companies.clear()\n",
    "print(it_companies)\n",
    "del(it_companies)\n",
    "#print(it_companies)\n",
    "front_end=['HTML','CSS','JS','React','Redux']\n",
    "back_end=['Node','Express','MongoDB']\n",
    "front_end.extend(back_end)\n",
    "print(front_end)"
   ]
  },
  {
   "cell_type": "markdown",
   "metadata": {},
   "source": [
    "<h4>Excercise 2</h4>"
   ]
  },
  {
   "cell_type": "code",
   "execution_count": 47,
   "metadata": {},
   "outputs": [
    {
     "name": "stdout",
     "output_type": "stream",
     "text": [
      "[19, 19, 20, 22, 24, 24, 24, 25, 25, 26]\n",
      "19\n",
      "26\n",
      "12\n",
      "22\n",
      "7\n",
      "3 4\n"
     ]
    }
   ],
   "source": [
    "ages = [19, 22, 19, 24, 20, 25, 26, 24, 25, 24]\n",
    "ages.sort()\n",
    "print(ages)\n",
    "print(min(ages))\n",
    "print(max(ages))\n",
    "print(ages[5]//2)#Median \n",
    "x=sum(ages)//len(ages)#average age\n",
    "print(x)\n",
    "print(max(ages)-min(ages))#range of ages\n",
    "print(abs(min(ages)-x),abs(max(ages)-x))"
   ]
  },
  {
   "cell_type": "code",
   "execution_count": 48,
   "metadata": {},
   "outputs": [],
   "source": [
    "#Countries list\n",
    "countries = [\n",
    "  'Afghanistan',\n",
    "  'Albania',\n",
    "  'Algeria',\n",
    "  'Andorra',\n",
    "  'Angola',\n",
    "  'Antigua and Barbuda',\n",
    "  'Argentina',\n",
    "  'Armenia',\n",
    "  'Australia',\n",
    "  'Austria',\n",
    "  'Azerbaijan',\n",
    "  'Bahamas',\n",
    "  'Bahrain',\n",
    "  'Bangladesh',\n",
    "  'Barbados',\n",
    "  'Belarus',\n",
    "  'Belgium',\n",
    "  'Belize',\n",
    "  'Benin',\n",
    "  'Bhutan',\n",
    "  'Bolivia',\n",
    "  'Bosnia and Herzegovina',\n",
    "  'Botswana',\n",
    "  'Brazil',\n",
    "  'Brunei',\n",
    "  'Bulgaria',\n",
    "  'Burkina Faso',\n",
    "  'Burundi',\n",
    "  'Cambodia',\n",
    "  'Cameroon',\n",
    "  'Canada',\n",
    "  'Cape Verde',\n",
    "  'Central African Republic',\n",
    "  'Chad',\n",
    "  'Chile',\n",
    "  'China',\n",
    "  'Colombi',\n",
    "  'Comoros',\n",
    "  'Congo (Brazzaville)',\n",
    "  'Congo',\n",
    "  'Costa Rica',\n",
    "  \"Cote d'Ivoire\",\n",
    "  'Croatia',\n",
    "  'Cuba',\n",
    "  'Cyprus',\n",
    "  'Czech Republic',\n",
    "  'Denmark',\n",
    "  'Djibouti',\n",
    "  'Dominica',\n",
    "  'Dominican Republic',\n",
    "  'East Timor (Timor Timur)',\n",
    "  'Ecuador',\n",
    "  'Egypt',\n",
    "  'El Salvador',\n",
    "  'Equatorial Guinea',\n",
    "  'Eritrea',\n",
    "  'Estonia',\n",
    "  'Ethiopia',\n",
    "  'Fiji',\n",
    "  'Finland',\n",
    "  'France',\n",
    "  'Gabon',\n",
    "  'Gambia, The',\n",
    "  'Georgia',\n",
    "  'Germany',\n",
    "  'Ghana',\n",
    "  'Greece',\n",
    "  'Grenada',\n",
    "  'Guatemala',\n",
    "  'Guinea',\n",
    "  'Guinea-Bissau',\n",
    "  'Guyana',\n",
    "  'Haiti',\n",
    "  'Honduras',\n",
    "  'Hungary',\n",
    "  'Iceland',\n",
    "  'India',\n",
    "  'Indonesia',\n",
    "  'Iran',\n",
    "  'Iraq',\n",
    "  'Ireland',\n",
    "  'Israel',\n",
    "  'Italy',\n",
    "  'Jamaica',\n",
    "  'Japan',\n",
    "  'Jordan',\n",
    "  'Kazakhstan',\n",
    "  'Kenya',\n",
    "  'Kiribati',\n",
    "  'Korea, North',\n",
    "  'Korea, South',\n",
    "  'Kuwait',\n",
    "  'Kyrgyzstan',\n",
    "  'Laos',\n",
    "  'Latvia',\n",
    "  'Lebanon',\n",
    "  'Lesotho',\n",
    "  'Liberia',\n",
    "  'Libya',\n",
    "  'Liechtenstein',\n",
    "  'Lithuania',\n",
    "  'Luxembourg',\n",
    "  'Macedonia',\n",
    "  'Madagascar',\n",
    "  'Malawi',\n",
    "  'Malaysia',\n",
    "  'Maldives',\n",
    "  'Mali',\n",
    "  'Malta',\n",
    "  'Marshall Islands',\n",
    "  'Mauritania',\n",
    "  'Mauritius',\n",
    "  'Mexico',\n",
    "  'Micronesia',\n",
    "  'Moldova',\n",
    "  'Monaco',\n",
    "  'Mongolia',\n",
    "  'Morocco',\n",
    "  'Mozambique',\n",
    "  'Myanmar',\n",
    "  'Namibia',\n",
    "  'Nauru',\n",
    "  'Nepal',\n",
    "  'Netherlands',\n",
    "  'New Zealand',\n",
    "  'Nicaragua',\n",
    "  'Niger',\n",
    "  'Nigeria',\n",
    "  'Norway',\n",
    "  'Oman',\n",
    "  'Pakistan',\n",
    "  'Palau',\n",
    "  'Panama',\n",
    "  'Papua New Guinea',\n",
    "  'Paraguay',\n",
    "  'Peru',\n",
    "  'Philippines',\n",
    "  'Poland',\n",
    "  'Portugal',\n",
    "  'Qatar',\n",
    "  'Romania',\n",
    "  'Russia',\n",
    "  'Rwanda',\n",
    "  'Saint Kitts and Nevis',\n",
    "  'Saint Lucia',\n",
    "  'Saint Vincent',\n",
    "  'Samoa',\n",
    "  'San Marino',\n",
    "  'Sao Tome and Principe',\n",
    "  'Saudi Arabia',\n",
    "  'Senegal',\n",
    "  'Serbia and Montenegro',\n",
    "  'Seychelles',\n",
    "  'Sierra Leone',\n",
    "  'Singapore',\n",
    "  'Slovakia',\n",
    "  'Slovenia',\n",
    "  'Solomon Islands',\n",
    "  'Somalia',\n",
    "  'South Africa',\n",
    "  'Spain',\n",
    "  'Sri Lanka',\n",
    "  'Sudan',\n",
    "  'Suriname',\n",
    "  'Swaziland',\n",
    "  'Sweden',\n",
    "  'Switzerland',\n",
    "  'Syria',\n",
    "  'Taiwan',\n",
    "  'Tajikistan',\n",
    "  'Tanzania',\n",
    "  'Thailand',\n",
    "  'Togo',\n",
    "  'Tonga',\n",
    "  'Trinidad and Tobago',\n",
    "  'Tunisia',\n",
    "  'Turkey',\n",
    "  'Turkmenistan',\n",
    "  'Tuvalu',\n",
    "  'Uganda',\n",
    "  'Ukraine',\n",
    "  'United Arab Emirates',\n",
    "  'United Kingdom',\n",
    "  'United States',\n",
    "  'Uruguay',\n",
    "  'Uzbekistan',\n",
    "  'Vanuatu',\n",
    "  'Vatican City',\n",
    "  'Venezuela',\n",
    "  'Vietnam',\n",
    "  'Yemen',\n",
    "  'Zambia',\n",
    "  'Zimbabwe',\n",
    "]"
   ]
  },
  {
   "cell_type": "code",
   "execution_count": 53,
   "metadata": {},
   "outputs": [
    {
     "name": "stdout",
     "output_type": "stream",
     "text": [
      "193\n",
      "96\n",
      "Lesotho\n",
      "['Afghanistan', 'Albania', 'Algeria', 'Andorra', 'Angola', 'Antigua and Barbuda', 'Argentina', 'Armenia', 'Australia', 'Austria', 'Azerbaijan', 'Bahamas', 'Bahrain', 'Bangladesh', 'Barbados', 'Belarus', 'Belgium', 'Belize', 'Benin', 'Bhutan', 'Bolivia', 'Bosnia and Herzegovina', 'Botswana', 'Brazil', 'Brunei', 'Bulgaria', 'Burkina Faso', 'Burundi', 'Cambodia', 'Cameroon', 'Canada', 'Cape Verde', 'Central African Republic', 'Chad', 'Chile', 'China', 'Colombi', 'Comoros', 'Congo (Brazzaville)', 'Congo', 'Costa Rica', \"Cote d'Ivoire\", 'Croatia', 'Cuba', 'Cyprus', 'Czech Republic', 'Denmark', 'Djibouti', 'Dominica', 'Dominican Republic', 'East Timor (Timor Timur)', 'Ecuador', 'Egypt', 'El Salvador', 'Equatorial Guinea', 'Eritrea', 'Estonia', 'Ethiopia', 'Fiji', 'Finland', 'France', 'Gabon', 'Gambia, The', 'Georgia', 'Germany', 'Ghana', 'Greece', 'Grenada', 'Guatemala', 'Guinea', 'Guinea-Bissau', 'Guyana', 'Haiti', 'Honduras', 'Hungary', 'Iceland', 'India', 'Indonesia', 'Iran', 'Iraq', 'Ireland', 'Israel', 'Italy', 'Jamaica', 'Japan', 'Jordan', 'Kazakhstan', 'Kenya', 'Kiribati', 'Korea, North', 'Korea, South', 'Kuwait', 'Kyrgyzstan', 'Laos', 'Latvia', 'Lebanon', 'Lesotho']\n",
      "['Liberia', 'Libya', 'Liechtenstein', 'Lithuania', 'Luxembourg', 'Macedonia', 'Madagascar', 'Malawi', 'Malaysia', 'Maldives', 'Mali', 'Malta', 'Marshall Islands', 'Mauritania', 'Mauritius', 'Mexico', 'Micronesia', 'Moldova', 'Monaco', 'Mongolia', 'Morocco', 'Mozambique', 'Myanmar', 'Namibia', 'Nauru', 'Nepal', 'Netherlands', 'New Zealand', 'Nicaragua', 'Niger', 'Nigeria', 'Norway', 'Oman', 'Pakistan', 'Palau', 'Panama', 'Papua New Guinea', 'Paraguay', 'Peru', 'Philippines', 'Poland', 'Portugal', 'Qatar', 'Romania', 'Russia', 'Rwanda', 'Saint Kitts and Nevis', 'Saint Lucia', 'Saint Vincent', 'Samoa', 'San Marino', 'Sao Tome and Principe', 'Saudi Arabia', 'Senegal', 'Serbia and Montenegro', 'Seychelles', 'Sierra Leone', 'Singapore', 'Slovakia', 'Slovenia', 'Solomon Islands', 'Somalia', 'South Africa', 'Spain', 'Sri Lanka', 'Sudan', 'Suriname', 'Swaziland', 'Sweden', 'Switzerland', 'Syria', 'Taiwan', 'Tajikistan', 'Tanzania', 'Thailand', 'Togo', 'Tonga', 'Trinidad and Tobago', 'Tunisia', 'Turkey', 'Turkmenistan', 'Tuvalu', 'Uganda', 'Ukraine', 'United Arab Emirates', 'United Kingdom', 'United States', 'Uruguay', 'Uzbekistan', 'Vanuatu', 'Vatican City', 'Venezuela', 'Vietnam', 'Yemen', 'Zambia', 'Zimbabwe']\n"
     ]
    }
   ],
   "source": [
    "print(len(countries))\n",
    "print(len(countries)//2)\n",
    "print(countries[96])#middle of the countries\n",
    "countries2=[]\n",
    "countries3=[]\n",
    "countries2=countries[0:97]\n",
    "print(countries2)\n",
    "countries3=countries[97:]\n",
    "print(countries3)\n"
   ]
  },
  {
   "cell_type": "code",
   "execution_count": 56,
   "metadata": {},
   "outputs": [
    {
     "name": "stdout",
     "output_type": "stream",
     "text": [
      "China\n",
      "Russia\n",
      "USA\n",
      "['Finland', 'Sweden', 'Norway', 'Denmark']\n"
     ]
    }
   ],
   "source": [
    "countries4=['China', 'Russia', 'USA', 'Finland', 'Sweden', 'Norway', 'Denmark']\n",
    "a,b,c,*d=countries4\n",
    "print(a)\n",
    "print(b)\n",
    "print(c)\n",
    "scandic_countries=d\n",
    "print(scandic_countries)"
   ]
  }
 ],
 "metadata": {
  "kernelspec": {
   "display_name": "base",
   "language": "python",
   "name": "python3"
  },
  "language_info": {
   "codemirror_mode": {
    "name": "ipython",
    "version": 3
   },
   "file_extension": ".py",
   "mimetype": "text/x-python",
   "name": "python",
   "nbconvert_exporter": "python",
   "pygments_lexer": "ipython3",
   "version": "3.9.13 (main, Aug 25 2022, 23:51:50) [MSC v.1916 64 bit (AMD64)]"
  },
  "orig_nbformat": 4,
  "vscode": {
   "interpreter": {
    "hash": "0e63832b1e445d82ea1992fadf60a3a264d6ce2166f0794d2825a6ed51b5cd2b"
   }
  }
 },
 "nbformat": 4,
 "nbformat_minor": 2
}
